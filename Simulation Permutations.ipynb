{
 "cells": [
  {
   "cell_type": "code",
   "execution_count": 19,
   "metadata": {
    "collapsed": true
   },
   "outputs": [],
   "source": [
    "%matplotlib inline\n",
    "\n",
    "import itertools as it\n",
    "import random\n",
    "\n",
    "import numpy as np"
   ]
  },
  {
   "cell_type": "markdown",
   "metadata": {},
   "source": [
    "# Simulation"
   ]
  },
  {
   "cell_type": "code",
   "execution_count": 20,
   "metadata": {
    "collapsed": true
   },
   "outputs": [],
   "source": [
    "weights = [0, 1, 5, 10, 20, 30, 40, 50, 60, 70, 80, 90, 95, 99, 100] \\\n",
    "        + [0, 1, 5, 10, 20, 30, 40, 50, 60, 70, 80, 90, 95, 99, 100] \\\n",
    "        + [0, 1, 5, 10, 20, 30, 40, 50, 60, 70, 80, 90, 95, 99, 100]\n",
    "        \n",
    "# weights = list(range(0, 101)) + list(range(0, 101)) + list(range(0, 101))\n",
    "perms = set()\n",
    "for perm in it.permutations(weights, 3):\n",
    "    if sum(perm) == 100:\n",
    "        perms.add(perm)"
   ]
  },
  {
   "cell_type": "code",
   "execution_count": 21,
   "metadata": {},
   "outputs": [
    {
     "data": {
      "text/plain": [
       "81"
      ]
     },
     "execution_count": 21,
     "metadata": {},
     "output_type": "execute_result"
    }
   ],
   "source": [
    "len(perms)"
   ]
  },
  {
   "cell_type": "code",
   "execution_count": 22,
   "metadata": {
    "collapsed": true,
    "scrolled": true
   },
   "outputs": [],
   "source": [
    "GAME = 'hangman'\n",
    "args = []\n",
    "for model in ['weighted_product', 'weighted_sum']:\n",
    "    for perm in sorted(perms):\n",
    "        for iteration in range(0, 10):\n",
    "            seed = random.randint(0, 1000000)\n",
    "            weights = 'reward:{};info:{};speed:{}'.format(*list(perm))\n",
    "            filename = '-'.join([GAME, model] + list(map(str, perm)) + [str(seed)])\n",
    "            arg = 'build/splits/9 --game={} --strategy={}|{} --limit=100 --seed={} --outfile=game-logs/{}.jsonl'.format(GAME, model, weights, seed, filename)\n",
    "            args.append(arg)"
   ]
  },
  {
   "cell_type": "code",
   "execution_count": 23,
   "metadata": {
    "scrolled": false
   },
   "outputs": [
    {
     "data": {
      "text/plain": [
       "1620"
      ]
     },
     "execution_count": 23,
     "metadata": {},
     "output_type": "execute_result"
    }
   ],
   "source": [
    "with open('args-gen-{}.txt'.format(GAME), 'w') as f:\n",
    "    for arg in args:\n",
    "        print(arg, file=f)\n",
    "len(args)"
   ]
  },
  {
   "cell_type": "code",
   "execution_count": 28,
   "metadata": {
    "collapsed": true,
    "scrolled": true
   },
   "outputs": [],
   "source": [
    "GAME = 'mastermind'\n",
    "args = []\n",
    "for model in ['weighted_product', 'weighted_sum']:\n",
    "    for perm in sorted(perms):\n",
    "        for iteration in range(0, 10):\n",
    "            seed = random.randint(0, 1000000)\n",
    "            weights = 'reward:{};info:{};speed:{}'.format(*list(perm))\n",
    "            filename = '-'.join([GAME, model] + list(map(str, perm)) + [str(seed)])\n",
    "            arg = 'build/mastermind-short --game={} --strategy={}|{} --limit=64 --seed={} --outfile=game-logs/{}.jsonl'.format(GAME, model, weights, seed, filename)\n",
    "            args.append(arg)"
   ]
  },
  {
   "cell_type": "code",
   "execution_count": 29,
   "metadata": {},
   "outputs": [
    {
     "data": {
      "text/plain": [
       "1620"
      ]
     },
     "execution_count": 29,
     "metadata": {},
     "output_type": "execute_result"
    }
   ],
   "source": [
    "with open('args-gen-{}.txt'.format(GAME), 'w') as f:\n",
    "    for arg in args:\n",
    "        print(arg, file=f)\n",
    "len(args)"
   ]
  },
  {
   "cell_type": "code",
   "execution_count": null,
   "metadata": {
    "collapsed": true
   },
   "outputs": [],
   "source": []
  }
 ],
 "metadata": {
  "kernelspec": {
   "display_name": "Python 3",
   "language": "python",
   "name": "python3"
  },
  "language_info": {
   "codemirror_mode": {
    "name": "ipython",
    "version": 3
   },
   "file_extension": ".py",
   "mimetype": "text/x-python",
   "name": "python",
   "nbconvert_exporter": "python",
   "pygments_lexer": "ipython3",
   "version": "3.5.1"
  }
 },
 "nbformat": 4,
 "nbformat_minor": 2
}
