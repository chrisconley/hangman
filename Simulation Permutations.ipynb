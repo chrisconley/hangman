{
 "cells": [
  {
   "cell_type": "code",
   "execution_count": 31,
   "metadata": {
    "collapsed": true
   },
   "outputs": [],
   "source": [
    "%matplotlib inline\n",
    "\n",
    "import itertools as it\n",
    "import random\n",
    "\n",
    "import numpy as np"
   ]
  },
  {
   "cell_type": "markdown",
   "metadata": {},
   "source": [
    "# Simulation"
   ]
  },
  {
   "cell_type": "code",
   "execution_count": 91,
   "metadata": {},
   "outputs": [],
   "source": [
    "weights = [0, 1, 5, 10, 20, 30, 40, 50, 60, 70, 80, 90, 95, 99, 100] \\\n",
    "        + [0, 1, 5, 10, 20, 30, 40, 50, 60, 70, 80, 90, 95, 99, 100] \\\n",
    "        + [0, 1, 5, 10, 20, 30, 40, 50, 60, 70, 80, 90, 95, 99, 100]\n",
    "        \n",
    "weights = list(range(0, 101)) + list(range(0, 101)) + list(range(0, 101))\n",
    "perms = set()\n",
    "for perm in it.permutations(weights, 3):\n",
    "    if sum(perm) == 100:\n",
    "        perms.add(perm)"
   ]
  },
  {
   "cell_type": "code",
   "execution_count": 92,
   "metadata": {},
   "outputs": [
    {
     "data": {
      "text/plain": [
       "5151"
      ]
     },
     "execution_count": 92,
     "metadata": {},
     "output_type": "execute_result"
    }
   ],
   "source": [
    "len(perms)"
   ]
  },
  {
   "cell_type": "code",
   "execution_count": 95,
   "metadata": {
    "scrolled": true
   },
   "outputs": [],
   "source": [
    "args = []\n",
    "for model in ['weighted_product', 'weighted_sum']:\n",
    "    for perm in sorted(perms):\n",
    "        for iteration in range(0, 5):\n",
    "            seed = random.randint(0, 1000000)\n",
    "            weights = 'reward:{};info:{};speed:{}'.format(*list(perm))\n",
    "            filename = '-'.join(['hangman', model] + list(map(str, perm)) + [str(seed)])\n",
    "            arg = 'build/splits/9 --game=hangman --strategy={}|{} --limit=1000 --seed={} --outfile=game-logs/{}.jsonl'.format(model, weights, seed, filename)\n",
    "            args.append(arg)"
   ]
  },
  {
   "cell_type": "code",
   "execution_count": 96,
   "metadata": {
    "scrolled": false
   },
   "outputs": [
    {
     "data": {
      "text/plain": [
       "51510"
      ]
     },
     "execution_count": 96,
     "metadata": {},
     "output_type": "execute_result"
    }
   ],
   "source": [
    "with open('args-gen-hangman.txt', 'w') as f:\n",
    "    for arg in args:\n",
    "        print(arg, file=f)\n",
    "len(args)"
   ]
  },
  {
   "cell_type": "code",
   "execution_count": 97,
   "metadata": {
    "collapsed": true,
    "scrolled": true
   },
   "outputs": [],
   "source": [
    "args = []\n",
    "for model in ['weighted_product', 'weighted_sum']:\n",
    "    for perm in sorted(perms):\n",
    "        for iteration in range(0, 5):\n",
    "            seed = random.randint(0, 1000000)\n",
    "            weights = 'reward:{};info:{};speed:{}'.format(*list(perm))\n",
    "            filename = '-'.join(['mastermind', model] + list(map(str, perm)) + [str(seed)])\n",
    "            arg = 'build/mastermind-traditional --game=mastermind --strategy={}|{} --limit=1000 --seed={} --outfile=game-logs/{}.jsonl'.format(model, weights, seed, filename)\n",
    "            args.append(arg)"
   ]
  },
  {
   "cell_type": "code",
   "execution_count": 98,
   "metadata": {},
   "outputs": [
    {
     "data": {
      "text/plain": [
       "51510"
      ]
     },
     "execution_count": 98,
     "metadata": {},
     "output_type": "execute_result"
    }
   ],
   "source": [
    "with open('args-gen-mastermind.txt', 'w') as f:\n",
    "    for arg in args:\n",
    "        print(arg, file=f)\n",
    "len(args)"
   ]
  },
  {
   "cell_type": "code",
   "execution_count": null,
   "metadata": {
    "collapsed": true
   },
   "outputs": [],
   "source": []
  }
 ],
 "metadata": {
  "kernelspec": {
   "display_name": "Python 3",
   "language": "python",
   "name": "python3"
  },
  "language_info": {
   "codemirror_mode": {
    "name": "ipython",
    "version": 3
   },
   "file_extension": ".py",
   "mimetype": "text/x-python",
   "name": "python",
   "nbconvert_exporter": "python",
   "pygments_lexer": "ipython3",
   "version": "3.5.1"
  }
 },
 "nbformat": 4,
 "nbformat_minor": 2
}
