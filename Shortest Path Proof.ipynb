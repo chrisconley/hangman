{
 "cells": [
  {
   "cell_type": "markdown",
   "metadata": {},
   "source": [
    "\\begin{align}\n",
    "\\dot{x} & = \\sigma(y-x) \\\\\n",
    "\\dot{y} & = \\rho x - y - xz \\\\\n",
    "\\dot{z} & = -\\beta z + xy\n",
    "\\end{align}"
   ]
  },
  {
   "cell_type": "markdown",
   "metadata": {},
   "source": [
    "Theorem: $\\hi$"
   ]
  },
  {
   "cell_type": "markdown",
   "metadata": {},
   "source": [
    "\\begin{align}\n",
    "\\text{Conjecture. Given two probability distributions, $p(x)$ and $q(x)$, the shortest path to $p(x) = q(x)$ is achieved through one or more steps by minimizing the cross entropy, $\\sum_{i=0}p(x)logp^\\prime(x)$, at each step where the shortest path is defined as $p(x) \\rightarrow p_1^\\prime(x) \\rightarrow p_2^\\prime(x) \\rightarrow ... \\rightarrow p_n^\\prime(x) \\rightarrow q(x)$ where $\\lim_{p_n^\\prime(x) \\to q(x)} D(q(x) || p(x))= 0$.}\n",
    "\\end{align}"
   ]
  },
  {
   "cell_type": "markdown",
   "metadata": {},
   "source": [
    "\\begin{align}\n",
    "\\text{Proof.} \n",
    "\\end{align}"
   ]
  },
  {
   "cell_type": "markdown",
   "metadata": {},
   "source": [
    "$\\textbf{Conjecture.}$ Suppose $\\textit{set of}$ $\\mathcal{X}$. Each $X \\in \\mathcal{X}$ has $A \\subset \\mathcal{X}$. If $P$ and $P_A$, then $D(P || Q) \\approx 2$.\n",
    "\n",
    "In hangman, maybe $q(x) = q_a(x) q_b(x) \\cdots q_z(x) = q_d(x; \\theta_d)$."
   ]
  },
  {
   "cell_type": "markdown",
   "metadata": {},
   "source": [
    "$\\textbf{The system.}$ Suppose we are given a set of possible words $\\mathcal{X}$. We will consider a system of two probability distributions, $p_0(x \\,|\\, s_0)$ and $q(x)$ where $p_0(x)$ is derived from your prior knowledge, $s_0$, and $q(x)$ is unknown. The objective is to update $s_0$ $n$ times so that $p_n(x \\,|\\, s_n) \\approx q(x)$.\n",
    "\n",
    "In this system, there are one or more sequential moves, $m_n(s_n, a_n)$, that can be taken to realize $p_n(x) \\approx q(x)$. Each move $m_{k}$ is defined to be dependent on your prior $s_{k}$ and an action $a_{k}$, which results in an updated prior $s_{k+1}$ and probability distribution $p_{k+1}$.\n",
    "\n",
    "\\begin{equation}\n",
    "s_0, p_0,\\rightarrow s_1, p_1 = m_0(s_0, a_0),\\rightarrow s_2, p_2 = m_1(s_1, a_1),\\rightarrow \\cdots \\rightarrow s_k, p_k = m_{k-1}(s_{k-1}, a_{k-1}) \\rightarrow \\cdots \\rightarrow s_n, p_n = m_{n-1}(s_{n-1}, a_{n-1}) \\approx q(x)\n",
    "\\end{equation}\n",
    "\n",
    "$\\textbf{Conjecture.}$ At each $m_k$, choosing the action out of the set of all possible actions $A_k$ that minimizes the cross entropy globally minimizes the number of actions $n$ needed to realize $p_n(x) \\approx q(x)$.\n",
    "\n",
    "\\begin{equation}\n",
    "\\arg \\underset{a \\in A_k} \\max \\sum_{s \\in S_{k+1}} p(x \\,|\\, a, s)log \\, p(x \\,|\\, a, s)\n",
    "\\end{equation}\n",
    "\n",
    "\\begin{equation}\n",
    "p_i(x) = p_{k+1}(x \\,|\\, p_k(x \\,|\\, s_k),a_i,X)\n",
    "\\end{equation}\n",
    "\n",
    "OLD\n",
    "\\begin{equation}\n",
    "\\arg \\underset{a \\in A_k} \\max \\sum_{s \\in S_{k+1}} p_{b}^{a}logp_{b}^{a}\n",
    "\\end{equation}\n",
    "\n",
    "\n",
    "We need to figure out how to specify the one-step lookahead. And show that we might not be able to see q(x), but we can see what p_k+1(x) looks like and how it gets us closer to q(x)."
   ]
  },
  {
   "cell_type": "markdown",
   "metadata": {},
   "source": [
    "\n",
    "\n",
    "where $\\lim_{p_n^\\prime(x) \\to q(x)} D(q(x) || p(x))= 0$.\n",
    "\n",
    "\\begin{equation}\n",
    "p(x) \\rightarrow p_1^\\prime(x) \\rightarrow p_2^\\prime(x) \\rightarrow \\cdots \\rightarrow p_n^\\prime(x) \\approx q(x)\n",
    "\\end{equation}\n",
    "\n",
    "The path to realizing $p(x) = q(x)$ is given by $n$ steps where $p(x)$ is updated to $p^\\prime(x)$ at each step."
   ]
  },
  {
   "cell_type": "code",
   "execution_count": null,
   "metadata": {
    "collapsed": true
   },
   "outputs": [],
   "source": []
  }
 ],
 "metadata": {
  "kernelspec": {
   "display_name": "Python 3",
   "language": "python",
   "name": "python3"
  },
  "language_info": {
   "codemirror_mode": {
    "name": "ipython",
    "version": 3
   },
   "file_extension": ".py",
   "mimetype": "text/x-python",
   "name": "python",
   "nbconvert_exporter": "python",
   "pygments_lexer": "ipython3",
   "version": "3.5.1"
  }
 },
 "nbformat": 4,
 "nbformat_minor": 2
}
