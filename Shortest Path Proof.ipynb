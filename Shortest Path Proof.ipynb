{
 "cells": [
  {
   "cell_type": "markdown",
   "metadata": {},
   "source": [
    "\\begin{align}\n",
    "\\dot{x} & = \\sigma(y-x) \\\\\n",
    "\\dot{y} & = \\rho x - y - xz \\\\\n",
    "\\dot{z} & = -\\beta z + xy\n",
    "\\end{align}"
   ]
  },
  {
   "cell_type": "markdown",
   "metadata": {},
   "source": [
    "Theorem: $\\hi$"
   ]
  },
  {
   "cell_type": "markdown",
   "metadata": {},
   "source": [
    "\\begin{align}\n",
    "\\text{Conjecture. Given two probability distributions, $p(x)$ and $q(x)$, the shortest path to $p(x) = q(x)$ is achieved through one or more steps by minimizing the cross entropy, $\\sum_{i=0}p(x)logp^\\prime(x)$, at each step where the shortest path is defined as $p(x) \\rightarrow p_1^\\prime(x) \\rightarrow p_2^\\prime(x) \\rightarrow ... \\rightarrow p_n^\\prime(x) \\rightarrow q(x)$ where $\\lim_{p_n^\\prime(x) \\to q(x)} D(q(x) || p(x))= 0$.}\n",
    "\\end{align}"
   ]
  },
  {
   "cell_type": "markdown",
   "metadata": {},
   "source": [
    "\\begin{align}\n",
    "\\text{Proof.} \n",
    "\\end{align}"
   ]
  },
  {
   "cell_type": "markdown",
   "metadata": {},
   "source": [
    "$\\textbf{Conjecture.}$ Suppose $\\textit{set of}$ $\\mathcal{X}$. Each $X \\in \\mathcal{X}$ has $A \\subset \\mathcal{X}$. If $P$ and $P_A$, then $D(P || Q) \\approx 2$.\n",
    "\n",
    "In hangman, maybe $q(x) = q_a(x) q_b(x) \\cdots q_z(x) = q_d(x; \\theta_d)$."
   ]
  },
  {
   "cell_type": "markdown",
   "metadata": {},
   "source": [
    "$\\textbf{The system.}$ We will consider a system of two probability distributions, $p_0(x)$ and $q(x)$ where $p_0(x)$ is derived from your prior knowledge, $\\beta_0$, and $q(x)$ is unknown. The objective is to update $\\beta_0$ $n$ times so that $p_n(x) \\approx q(x)$.\n",
    "\n",
    "In this system, there are one or more sequential moves, $m_n(\\beta_n, a_n)$, that can be taken to realize $p_n(x) \\approx q(x)$. Each move $m_{k-1}$ is defined to be dependent on your prior $\\beta_{k-1}$ and an action $a_{k-1}$, which results in an updated prior $\\beta_k$ and probability distribution $p_k$.\n",
    "\n",
    "\\begin{equation}\n",
    "\\beta_0, p_0,\\rightarrow \\beta_1, p_1 = m_0(\\beta_0, a_0),\\rightarrow \\beta_2, p_2 = m_1(\\beta_1, a_1),\\rightarrow \\cdots \\rightarrow \\beta_k, p_k = m_{k-1}(\\beta_{k-1}, a_{k-1}) \\rightarrow \\cdots \\rightarrow \\beta_n, p_n = m_{n-1}(\\beta_{n-1}, a_{n-1}) \\approx q(x)\n",
    "\\end{equation}\n",
    "\n",
    "$\\textbf{Conjecture.}$ At each $m_k$, choosing the action out of the set of all possible actions $A$ that minimizes the cross entropy globally minimizes the number of actions $n$ needed to realize $p_n(x) \\approx q(x)$.\n",
    "\n",
    "\\begin{equation}\n",
    "\\arg \\min \\sum_{a \\in}p_k^i(x)logp_{k+1}^i(x)\n",
    "\\end{equation}\n"
   ]
  },
  {
   "cell_type": "markdown",
   "metadata": {},
   "source": [
    "\n",
    "\n",
    "where $\\lim_{p_n^\\prime(x) \\to q(x)} D(q(x) || p(x))= 0$.\n",
    "\n",
    "\\begin{equation}\n",
    "p(x) \\rightarrow p_1^\\prime(x) \\rightarrow p_2^\\prime(x) \\rightarrow \\cdots \\rightarrow p_n^\\prime(x) \\approx q(x)\n",
    "\\end{equation}\n",
    "\n",
    "The path to realizing $p(x) = q(x)$ is given by $n$ steps where $p(x)$ is updated to $p^\\prime(x)$ at each step."
   ]
  },
  {
   "cell_type": "code",
   "execution_count": null,
   "metadata": {
    "collapsed": true
   },
   "outputs": [],
   "source": []
  }
 ],
 "metadata": {
  "kernelspec": {
   "display_name": "Python 3",
   "language": "python",
   "name": "python3"
  },
  "language_info": {
   "codemirror_mode": {
    "name": "ipython",
    "version": 3
   },
   "file_extension": ".py",
   "mimetype": "text/x-python",
   "name": "python",
   "nbconvert_exporter": "python",
   "pygments_lexer": "ipython3",
   "version": "3.5.1"
  }
 },
 "nbformat": 4,
 "nbformat_minor": 2
}
